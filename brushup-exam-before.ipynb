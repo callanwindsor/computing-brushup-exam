{
 "cells": [
  {
   "cell_type": "code",
   "execution_count": 1,
   "metadata": {
    "autoscroll": false,
    "ein.tags": "worksheet-0",
    "slideshow": {
     "slide_type": "-"
    }
   },
   "outputs": [],
   "source": [
    "%load_ext rpy2.ipython"
   ]
  },
  {
   "cell_type": "markdown",
   "metadata": {
    "ein.tags": "worksheet-0",
    "slideshow": {
     "slide_type": "-"
    }
   },
   "source": [
    "# Problem 1: The Command Line\n",
    "\n",
    "SSH into your instance. \n",
    "\n",
    "You will find a file located at $HOME/not-your-folder/2018_padro_nacionalitat_per_sexe.csv \n",
    "\n",
    "Your job is to create a new folder at $HOME/this-is-the-one, and move the csv file into that new folder"
   ]
  },
  {
   "cell_type": "markdown",
   "metadata": {
    "ein.tags": "worksheet-0",
    "slideshow": {
     "slide_type": "-"
    }
   },
   "source": [
    "# Problem 2: Plotting in R"
   ]
  },
  {
   "cell_type": "code",
   "execution_count": 2,
   "metadata": {
    "autoscroll": false,
    "ein.tags": "worksheet-0",
    "slideshow": {
     "slide_type": "-"
    }
   },
   "outputs": [
    {
     "name": "stderr",
     "output_type": "stream",
     "text": [
      "/opt/conda/lib/python3.6/site-packages/rpy2/rinterface/__init__.py:186: RRuntimeWarning: Loading tidyverse: ggplot2\n",
      "Loading tidyverse: tibble\n",
      "Loading tidyverse: tidyr\n",
      "Loading tidyverse: readr\n",
      "Loading tidyverse: purrr\n",
      "Loading tidyverse: dplyr\n",
      "\n",
      "  warnings.warn(x, RRuntimeWarning)\n",
      "/opt/conda/lib/python3.6/site-packages/rpy2/rinterface/__init__.py:186: RRuntimeWarning: Conflicts with tidy packages ---------------------------------------------------\n",
      "\n",
      "  warnings.warn(x, RRuntimeWarning)\n",
      "/opt/conda/lib/python3.6/site-packages/rpy2/rinterface/__init__.py:186: RRuntimeWarning: filter(): dplyr, stats\n",
      "lag():    dplyr, stats\n",
      "\n",
      "  warnings.warn(x, RRuntimeWarning)\n"
     ]
    }
   ],
   "source": [
    "%%R\n",
    "\n",
    "library(tidyverse)"
   ]
  },
  {
   "cell_type": "code",
   "execution_count": 3,
   "metadata": {
    "autoscroll": false,
    "ein.tags": "worksheet-0",
    "slideshow": {
     "slide_type": "-"
    }
   },
   "outputs": [
    {
     "name": "stderr",
     "output_type": "stream",
     "text": [
      "/opt/conda/lib/python3.6/site-packages/rpy2/rinterface/__init__.py:186: RRuntimeWarning: Parsed with column specification:\n",
      "cols(\n",
      "  Any = col_integer(),\n",
      "  Codi_Districte = col_integer(),\n",
      "  Nom_Districte = col_character(),\n",
      "  Codi_Barri = col_integer(),\n",
      "  Nom_Barri = col_character(),\n",
      "  Sexe = col_character(),\n",
      "  Nacionalitat = col_character(),\n",
      "  Nombre = col_integer()\n",
      ")\n",
      "\n",
      "  warnings.warn(x, RRuntimeWarning)\n"
     ]
    }
   ],
   "source": [
    "%%R\n",
    "\n",
    "# Read the file '2018_padro_nacionalitat_per_sexe.csv' from the new location, using read_csv\n",
    "# put the resulting Tibble into a variable called 'barris'\n",
    "\n",
    "barris <- read_csv(\"2018_padro_nacionalitat_per_sexe.csv\")"
   ]
  },
  {
   "cell_type": "code",
   "execution_count": 31,
   "metadata": {
    "autoscroll": false,
    "ein.tags": "worksheet-0",
    "slideshow": {
     "slide_type": "-"
    }
   },
   "outputs": [
    {
     "data": {
      "text/plain": [
       "# A tibble: 7,446 x 7\n",
       "   Codi_Districte Nom_Districte Codi_Barri Nom_Barri  Sexe  Nacionalitat Nombre\n",
       "            <int> <chr>              <int> <chr>      <chr> <chr>         <int>\n",
       " 1              1 Ciutat Vella           1 el Raval   Home  Espanya       11732\n",
       " 2              1 Ciutat Vella           2 el Barri … Home  Espanya        4214\n",
       " 3              1 Ciutat Vella           3 la Barcel… Home  Espanya        4607\n",
       " 4              1 Ciutat Vella           4 Sant Pere… Home  Espanya        6235\n",
       " 5              2 Eixample               5 el Fort P… Home  Espanya       11532\n",
       " 6              2 Eixample               6 la Sagrad… Home  Espanya       18692\n",
       " 7              2 Eixample               7 la Dreta … Home  Espanya       15761\n",
       " 8              2 Eixample               8 l'Antiga … Home  Espanya       15241\n",
       " 9              2 Eixample               9 la Nova E… Home  Espanya       21884\n",
       "10              2 Eixample              10 Sant Anto… Home  Espanya       13915\n",
       "# ... with 7,436 more rows\n"
      ]
     },
     "metadata": {},
     "output_type": "display_data"
    }
   ],
   "source": [
    "%%R\n",
    "\n",
    "# Let's manually convert a few columns into factors. \n",
    "barris %>% mutate(Nom_Barri = parse_factor(Nom_Barri, NULL), \n",
    "                  Sexe = parse_factor(Sexe, NULL),\n",
    "                  Nacionalitat = parse_factor(Nacionalitat, NULL))\n",
    "print(barris[,2:8])"
   ]
  },
  {
   "cell_type": "code",
   "execution_count": 39,
   "metadata": {},
   "outputs": [
    {
     "data": {
      "text/plain": [
       "# A tibble: 100 x 4\n",
       "   Nom_Barri   Sexe  Nacionalitat  Nombre\n",
       "   <chr>       <chr> <chr>          <int>\n",
       " 1 el Poblenou Home  Itàlia           526\n",
       " 2 el Poblenou Home  França           235\n",
       " 3 el Poblenou Home  Regne Unit       190\n",
       " 4 el Poblenou Home  Rússia            84\n",
       " 5 el Poblenou Home  Alemanya         138\n",
       " 6 el Poblenou Home  Romania           37\n",
       " 7 el Poblenou Home  Ucraïna           42\n",
       " 8 el Poblenou Home  Portugal          64\n",
       " 9 el Poblenou Home  Països Baixos     71\n",
       "10 el Poblenou Home  Polònia           29\n",
       "# ... with 90 more rows\n"
      ]
     },
     "metadata": {},
     "output_type": "display_data"
    }
   ],
   "source": [
    "%%R\n",
    "\n",
    "# We want to explore the neighborhood referred to as 'el Poblenou', in the variable\n",
    "# 'Nom_Barri' (neighborhood name). We will take a look at the gender and nationality\n",
    "# of the non-Spanish population in this neighborhood. \n",
    "#\n",
    "# First, filter the data to only 'el Poblenou'\n",
    "# Second, remove the nationality 'Espanya'\n",
    "# Before that let's look at the data (head command allows us to do this)\n",
    "\n",
    "poblenou_ns <- barris %>% filter(Nom_Barri==\"el Poblenou\", Nacionalitat!='Espanya') \n",
    "poblenou_ns[,5:8]"
   ]
  },
  {
   "cell_type": "code",
   "execution_count": 45,
   "metadata": {},
   "outputs": [
    {
     "data": {
      "text/plain": [
       "# A tibble: 17 x 3\n",
       "# Groups:   Nacionalitat [10]\n",
       "   Nacionalitat          Sexe  count\n",
       "   <chr>                 <chr> <int>\n",
       " 1 Alemanya              Dona    155\n",
       " 2 Alemanya              Home    138\n",
       " 3 Brasil                Dona    105\n",
       " 4 França                Dona    244\n",
       " 5 França                Home    235\n",
       " 6 Itàlia                Dona    491\n",
       " 7 Itàlia                Home    526\n",
       " 8 Marroc, el            Home    101\n",
       " 9 Pakistan              Dona    102\n",
       "10 Pakistan              Home    257\n",
       "11 Regne Unit            Dona    130\n",
       "12 Regne Unit            Home    190\n",
       "13 Resta països d'Europa Dona    187\n",
       "14 Resta països d'Europa Home    136\n",
       "15 Rússia                Dona    131\n",
       "16 Xina                  Dona    205\n",
       "17 Xina                  Home    190\n"
      ]
     },
     "metadata": {},
     "output_type": "display_data"
    }
   ],
   "source": [
    "%%R\n",
    "\n",
    "# Third, plot a horizontal bar chart of the population counted by 'Nacionalitat',\n",
    "# but only plot the most populous nationalities. Set a cutoff that looks right to you. \n",
    "#\n",
    "# Note: the number of each 'Sexe'/'Nacionalitat' combo is in the variable 'Nombre'\n",
    "# \n",
    "# Hint: group and count manually, and then use ggplot's geom_col and use coord_flip()\n",
    "# to make the chart horizontal\n",
    "\n",
    "plot_data <- poblenou_ns %>% group_by(Nacionalitat, Sexe) %>% summarise(count = sum(Nombre))\n",
    "\n",
    "plot_data[plot_data$count>100, ]"
   ]
  },
  {
   "cell_type": "code",
   "execution_count": 52,
   "metadata": {},
   "outputs": [
    {
     "data": {
      "image/png": "[encoded data removed]"
     },
     "metadata": {},
     "output_type": "display_data"
    }
   ],
   "source": [
    "%%R\n",
    "\n",
    "ggplot(data=plot_data %>% filter(count>99), aes(x = reorder(Nacionalitat, count), y = count, fill = Sexe)) + geom_col() + coord_flip() + ggtitle(\"Non-Spanish Population in El PobleNou\") + xlab(\"Number of residents\") + ylab(\"Nationality\")\n",
    "\n",
    "# Bonus: Display the gender ('Sexe') in different colors, via the \"fill\" property!"
   ]
  },
  {
   "cell_type": "markdown",
   "metadata": {
    "ein.tags": "worksheet-0",
    "slideshow": {
     "slide_type": "-"
    }
   },
   "source": [
    "# Problem 3: Classes in Python"
   ]
  },
  {
   "cell_type": "code",
   "execution_count": 57,
   "metadata": {
    "autoscroll": false,
    "ein.tags": "worksheet-0",
    "slideshow": {
     "slide_type": "-"
    }
   },
   "outputs": [],
   "source": [
    "# Create a class called \"RandomClassifier\". \n",
    "\n",
    "class RandomClassifier: \n",
    "    def __init__(self, probability):\n",
    "        self.probability = probability\n",
    "    \n",
    "    def predict(self, x):\n",
    "       return np.random.binomial(size=1, p= self.probability, n=1)\n",
    "\n",
    "# Its constructor should have one required parameter: 'probability'\n",
    "\n",
    "# It should have one instance method, 'predict'\n",
    "\n",
    "# The predict method should take one required parameter: 'x'\n",
    "\n",
    "# The predict method should then randomly return a 1 or 0. It should return a 1\n",
    "# with the probability given in the parameter\n",
    "\n",
    "# The following cell has a test that should pass if you've done it correctly!\n",
    "\n"
   ]
  },
  {
   "cell_type": "code",
   "execution_count": 169,
   "metadata": {
    "autoscroll": false,
    "ein.tags": "worksheet-0",
    "slideshow": {
     "slide_type": "-"
    }
   },
   "outputs": [
    {
     "name": "stdout",
     "output_type": "stream",
     "text": [
      "0.2\n",
      "0.19856\n"
     ]
    }
   ],
   "source": [
    "import numpy as np\n",
    "\n",
    "r = RandomClassifier(probability = .2)\n",
    "\n",
    "m = np.mean([r.predict(x = i) for i in np.arange(100000)])\n",
    "\n",
    "#numpy.arange([start, ]stop)\n",
    "#Return evenly spaced values within a given interval.\n",
    "\n",
    "np.testing.assert_approx_equal(m, 0.2, 2)\n",
    "\n",
    "#numpy.testing.assert_almost_equal(actual, desired, decimal=[])\n",
    "#AssertionError If actual and desired are not equal up to specified precision\n",
    "\n",
    "print(r.probability)\n",
    "print(m)"
   ]
  },
  {
   "cell_type": "markdown",
   "metadata": {
    "ein.tags": "worksheet-0",
    "slideshow": {
     "slide_type": "-"
    }
   },
   "source": [
    "# Problem 4: Some Theory"
   ]
  },
  {
   "cell_type": "markdown",
   "metadata": {
    "ein.tags": "worksheet-0",
    "slideshow": {
     "slide_type": "-"
    }
   },
   "source": [
    "### What are pure functions and what are their strengths? (2-3 lines)"
   ]
  },
  {
   "cell_type": "markdown",
   "metadata": {
    "ein.tags": "worksheet-0",
    "slideshow": {
     "slide_type": "-"
    }
   },
   "source": [
    "#### A pure function is a function which:\n",
    "* given the same input, will always return the same output; and\n",
    "* produces no side effects.\n",
    "\n",
    "#### Pure functions are good to use, including because: \n",
    "* they are completely unaffected by the outside state; and\n",
    "* they are very independent, making them easy to move around, re-factor and reorganise in your code."
   ]
  },
  {
   "cell_type": "markdown",
   "metadata": {
    "ein.tags": "worksheet-0",
    "slideshow": {
     "slide_type": "-"
    }
   },
   "source": [
    "### What is lazy evaluation and when might you use it? (2-3 lines)"
   ]
  },
  {
   "cell_type": "markdown",
   "metadata": {
    "ein.tags": "worksheet-0",
    "slideshow": {
     "slide_type": "-"
    }
   },
   "source": [
    "#### Lazy evaluation is an evaluation strategy that delays the evaluation of an expression until its value is needed and that avoids repeated evaluations. You might use it to improve performance by avoiding needless calculations and error conditions in evaluating compound expressions."
   ]
  }
 ],
 "metadata": {
  "kernelspec": {
   "display_name": "Python 3",
   "language": "python",
   "name": "python3"
  },
  "language_info": {
   "codemirror_mode": {
    "name": "ipython",
    "version": 3
   },
   "file_extension": ".py",
   "mimetype": "text/x-python",
   "name": "python",
   "nbconvert_exporter": "python",
   "pygments_lexer": "ipython3",
   "version": "3.6.3"
  },
  "name": "exam.ipynb"
 },
 "nbformat": 4,
 "nbformat_minor": 2
}
